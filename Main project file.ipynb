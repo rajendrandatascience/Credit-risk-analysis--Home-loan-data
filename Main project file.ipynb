{
 "cells": [
  {
   "cell_type": "code",
   "execution_count": 1,
   "metadata": {},
   "outputs": [],
   "source": [
    "import pandas as pd\n",
    "import numpy as np\n",
    "import statsmodels.api as sm"
   ]
  },
  {
   "cell_type": "code",
   "execution_count": 2,
   "metadata": {},
   "outputs": [],
   "source": [
    "import warnings\n",
    "warnings.filterwarnings('ignore')"
   ]
  },
  {
   "cell_type": "code",
   "execution_count": 3,
   "metadata": {},
   "outputs": [],
   "source": [
    "#Importing Data Set\n",
    "app = pd.read_csv(\"application_train.csv\")"
   ]
  },
  {
   "cell_type": "code",
   "execution_count": 4,
   "metadata": {},
   "outputs": [],
   "source": [
    "def missing_values(df):\n",
    "    n_miss_val = df.isnull().sum()\n",
    "    n_miss_per = 100 * df.isnull().sum() / len(df)\n",
    "    miss_tbl = pd.concat([n_miss_val,n_miss_per],axis=1).sort_values(1,ascending=False).round(1)\n",
    "    miss_tbl = miss_tbl[miss_tbl[1] !=0]\n",
    "    \n",
    "    miss_tbl = miss_tbl.rename(columns ={0: 'Missing Values',1:'%(Percentage) Missing Values'})\n",
    "    print(\"{} columns that have missing values.\".format(miss_tbl.shape[0]))\n",
    "    \n",
    "    return miss_tbl"
   ]
  },
  {
   "cell_type": "code",
   "execution_count": 5,
   "metadata": {},
   "outputs": [
    {
     "name": "stdout",
     "output_type": "stream",
     "text": [
      "64 columns that have missing values.\n"
     ]
    },
    {
     "data": {
      "text/html": [
       "<div>\n",
       "<style scoped>\n",
       "    .dataframe tbody tr th:only-of-type {\n",
       "        vertical-align: middle;\n",
       "    }\n",
       "\n",
       "    .dataframe tbody tr th {\n",
       "        vertical-align: top;\n",
       "    }\n",
       "\n",
       "    .dataframe thead th {\n",
       "        text-align: right;\n",
       "    }\n",
       "</style>\n",
       "<table border=\"1\" class=\"dataframe\">\n",
       "  <thead>\n",
       "    <tr style=\"text-align: right;\">\n",
       "      <th></th>\n",
       "      <th>Missing Values</th>\n",
       "      <th>%(Percentage) Missing Values</th>\n",
       "    </tr>\n",
       "  </thead>\n",
       "  <tbody>\n",
       "    <tr>\n",
       "      <th>COMMONAREA_MEDI</th>\n",
       "      <td>214865</td>\n",
       "      <td>69.9</td>\n",
       "    </tr>\n",
       "    <tr>\n",
       "      <th>COMMONAREA_AVG</th>\n",
       "      <td>214865</td>\n",
       "      <td>69.9</td>\n",
       "    </tr>\n",
       "    <tr>\n",
       "      <th>COMMONAREA_MODE</th>\n",
       "      <td>214865</td>\n",
       "      <td>69.9</td>\n",
       "    </tr>\n",
       "    <tr>\n",
       "      <th>NONLIVINGAPARTMENTS_MODE</th>\n",
       "      <td>213514</td>\n",
       "      <td>69.4</td>\n",
       "    </tr>\n",
       "    <tr>\n",
       "      <th>NONLIVINGAPARTMENTS_AVG</th>\n",
       "      <td>213514</td>\n",
       "      <td>69.4</td>\n",
       "    </tr>\n",
       "  </tbody>\n",
       "</table>\n",
       "</div>"
      ],
      "text/plain": [
       "                          Missing Values  %(Percentage) Missing Values\n",
       "COMMONAREA_MEDI                   214865                          69.9\n",
       "COMMONAREA_AVG                    214865                          69.9\n",
       "COMMONAREA_MODE                   214865                          69.9\n",
       "NONLIVINGAPARTMENTS_MODE          213514                          69.4\n",
       "NONLIVINGAPARTMENTS_AVG           213514                          69.4"
      ]
     },
     "execution_count": 5,
     "metadata": {},
     "output_type": "execute_result"
    }
   ],
   "source": [
    "#Missing value table using above defined function\n",
    "missing_values_table = missing_values(app)\n",
    "missing_values_table.head()"
   ]
  },
  {
   "cell_type": "code",
   "execution_count": 6,
   "metadata": {},
   "outputs": [
    {
     "data": {
      "text/plain": [
       "(307511, 73)"
      ]
     },
     "execution_count": 6,
     "metadata": {},
     "output_type": "execute_result"
    }
   ],
   "source": [
    "#Drop features which contain more than 65% missing values.\n",
    "app.dropna(thresh=app.shape[0]*0.65,how='all',axis=1,inplace=True)\n",
    "app.shape"
   ]
  },
  {
   "cell_type": "code",
   "execution_count": 7,
   "metadata": {},
   "outputs": [],
   "source": [
    "#MIssing Value Imputation\n",
    "app['AMT_ANNUITY'].fillna(app['AMT_ANNUITY'].median(),inplace=True)\n",
    "app['AMT_GOODS_PRICE'].fillna(app['AMT_CREDIT'].median(),inplace=True) \n",
    "app['AMT_REQ_CREDIT_BUREAU_HOUR'].fillna(0,inplace=True)\n",
    "app['AMT_REQ_CREDIT_BUREAU_DAY'].fillna(0,inplace=True)\n",
    "app['AMT_REQ_CREDIT_BUREAU_WEEK'].fillna(0,inplace=True)\n",
    "app['AMT_REQ_CREDIT_BUREAU_MON'].fillna(0,inplace=True)\n",
    "app['AMT_REQ_CREDIT_BUREAU_MON'].fillna(0,inplace=True)\n",
    "app['AMT_REQ_CREDIT_BUREAU_QRT'].fillna(0,inplace=True)\n",
    "app['AMT_REQ_CREDIT_BUREAU_YEAR'].fillna(0,inplace=True)\n",
    "app['DEF_30_CNT_SOCIAL_CIRCLE'].fillna(app['DEF_30_CNT_SOCIAL_CIRCLE'].median(),inplace=True)\n",
    "app['DEF_60_CNT_SOCIAL_CIRCLE'].fillna(app['DEF_30_CNT_SOCIAL_CIRCLE'].median(),inplace=True)\n",
    "app['OBS_30_CNT_SOCIAL_CIRCLE'].fillna(app['OBS_30_CNT_SOCIAL_CIRCLE'].median(),inplace=True)\n",
    "app['OBS_60_CNT_SOCIAL_CIRCLE'].fillna(app['OBS_30_CNT_SOCIAL_CIRCLE'].median(),inplace=True)\n",
    "app['EXT_SOURCE_2'].fillna(app['EXT_SOURCE_2'].mean(),inplace=True)\n",
    "app['EXT_SOURCE_3'].fillna(app['EXT_SOURCE_3'].mean(),inplace=True)\n",
    "app['NAME_TYPE_SUITE'].fillna(\"Unaccompanied\",inplace=True)\n",
    "app['OCCUPATION_TYPE'].fillna(\"Unknown\",inplace=True)\n"
   ]
  },
  {
   "cell_type": "code",
   "execution_count": 8,
   "metadata": {},
   "outputs": [
    {
     "data": {
      "text/plain": [
       "SK_ID_CURR                    0\n",
       "TARGET                        0\n",
       "NAME_CONTRACT_TYPE            0\n",
       "CODE_GENDER                   0\n",
       "FLAG_OWN_CAR                  0\n",
       "FLAG_OWN_REALTY               0\n",
       "CNT_CHILDREN                  0\n",
       "AMT_INCOME_TOTAL              0\n",
       "AMT_CREDIT                    0\n",
       "AMT_ANNUITY                   0\n",
       "AMT_GOODS_PRICE               0\n",
       "NAME_TYPE_SUITE               0\n",
       "NAME_INCOME_TYPE              0\n",
       "NAME_EDUCATION_TYPE           0\n",
       "NAME_FAMILY_STATUS            0\n",
       "NAME_HOUSING_TYPE             0\n",
       "REGION_POPULATION_RELATIVE    0\n",
       "DAYS_BIRTH                    0\n",
       "DAYS_EMPLOYED                 0\n",
       "DAYS_REGISTRATION             0\n",
       "DAYS_ID_PUBLISH               0\n",
       "FLAG_MOBIL                    0\n",
       "FLAG_EMP_PHONE                0\n",
       "FLAG_WORK_PHONE               0\n",
       "FLAG_CONT_MOBILE              0\n",
       "FLAG_PHONE                    0\n",
       "FLAG_EMAIL                    0\n",
       "OCCUPATION_TYPE               0\n",
       "CNT_FAM_MEMBERS               2\n",
       "REGION_RATING_CLIENT          0\n",
       "dtype: int64"
      ]
     },
     "execution_count": 8,
     "metadata": {},
     "output_type": "execute_result"
    }
   ],
   "source": [
    "app.isna().sum().head(30)"
   ]
  },
  {
   "cell_type": "code",
   "execution_count": 9,
   "metadata": {},
   "outputs": [
    {
     "data": {
      "text/plain": [
       "CNT_FAM_MEMBERS                2\n",
       "REGION_RATING_CLIENT           0\n",
       "REGION_RATING_CLIENT_W_CITY    0\n",
       "WEEKDAY_APPR_PROCESS_START     0\n",
       "HOUR_APPR_PROCESS_START        0\n",
       "REG_REGION_NOT_LIVE_REGION     0\n",
       "REG_REGION_NOT_WORK_REGION     0\n",
       "LIVE_REGION_NOT_WORK_REGION    0\n",
       "REG_CITY_NOT_LIVE_CITY         0\n",
       "REG_CITY_NOT_WORK_CITY         0\n",
       "LIVE_CITY_NOT_WORK_CITY        0\n",
       "ORGANIZATION_TYPE              0\n",
       "EXT_SOURCE_2                   0\n",
       "EXT_SOURCE_3                   0\n",
       "OBS_30_CNT_SOCIAL_CIRCLE       0\n",
       "DEF_30_CNT_SOCIAL_CIRCLE       0\n",
       "OBS_60_CNT_SOCIAL_CIRCLE       0\n",
       "DEF_60_CNT_SOCIAL_CIRCLE       0\n",
       "DAYS_LAST_PHONE_CHANGE         1\n",
       "FLAG_DOCUMENT_2                0\n",
       "FLAG_DOCUMENT_3                0\n",
       "FLAG_DOCUMENT_4                0\n",
       "FLAG_DOCUMENT_5                0\n",
       "FLAG_DOCUMENT_6                0\n",
       "FLAG_DOCUMENT_7                0\n",
       "FLAG_DOCUMENT_8                0\n",
       "FLAG_DOCUMENT_9                0\n",
       "FLAG_DOCUMENT_10               0\n",
       "FLAG_DOCUMENT_11               0\n",
       "FLAG_DOCUMENT_12               0\n",
       "FLAG_DOCUMENT_13               0\n",
       "FLAG_DOCUMENT_14               0\n",
       "FLAG_DOCUMENT_15               0\n",
       "FLAG_DOCUMENT_16               0\n",
       "FLAG_DOCUMENT_17               0\n",
       "FLAG_DOCUMENT_18               0\n",
       "FLAG_DOCUMENT_19               0\n",
       "FLAG_DOCUMENT_20               0\n",
       "FLAG_DOCUMENT_21               0\n",
       "AMT_REQ_CREDIT_BUREAU_HOUR     0\n",
       "AMT_REQ_CREDIT_BUREAU_DAY      0\n",
       "AMT_REQ_CREDIT_BUREAU_WEEK     0\n",
       "AMT_REQ_CREDIT_BUREAU_MON      0\n",
       "AMT_REQ_CREDIT_BUREAU_QRT      0\n",
       "AMT_REQ_CREDIT_BUREAU_YEAR     0\n",
       "dtype: int64"
      ]
     },
     "execution_count": 9,
     "metadata": {},
     "output_type": "execute_result"
    }
   ],
   "source": [
    "app.isna().sum().tail(45)"
   ]
  },
  {
   "cell_type": "code",
   "execution_count": 10,
   "metadata": {},
   "outputs": [],
   "source": [
    "app.dropna(inplace= True)"
   ]
  },
  {
   "cell_type": "code",
   "execution_count": 11,
   "metadata": {},
   "outputs": [
    {
     "data": {
      "text/plain": [
       "(307508, 73)"
      ]
     },
     "execution_count": 11,
     "metadata": {},
     "output_type": "execute_result"
    }
   ],
   "source": [
    "app.shape"
   ]
  },
  {
   "cell_type": "code",
   "execution_count": 12,
   "metadata": {},
   "outputs": [],
   "source": [
    "from sklearn.linear_model import LogisticRegression\n",
    "from sklearn.feature_selection import SelectFromModel"
   ]
  },
  {
   "cell_type": "markdown",
   "metadata": {},
   "source": [
    "### Simple Oversampling"
   ]
  },
  {
   "cell_type": "code",
   "execution_count": 13,
   "metadata": {},
   "outputs": [
    {
     "data": {
      "text/plain": [
       "1    50.0\n",
       "0    50.0\n",
       "Name: TARGET, dtype: float64"
      ]
     },
     "execution_count": 13,
     "metadata": {},
     "output_type": "execute_result"
    }
   ],
   "source": [
    "#Balancing Data Set by oversampling.\n",
    "class_count_0,class_count_1 = app[\"TARGET\"].value_counts()\n",
    "\n",
    "class_0 = app[app['TARGET'] == 0]\n",
    "class_1 = app[app['TARGET'] == 1]\n",
    "\n",
    "class_1_over = class_1.sample(class_count_0, replace=True)\n",
    "test_over = pd.concat([class_1_over,class_0],axis=0)\n",
    "\n",
    "app = test_over\n",
    "y = app.TARGET\n",
    "y.value_counts()/len(y)*100"
   ]
  },
  {
   "cell_type": "code",
   "execution_count": 14,
   "metadata": {},
   "outputs": [],
   "source": [
    "class_count_0,class_count_1 = app[\"TARGET\"].value_counts()"
   ]
  },
  {
   "cell_type": "code",
   "execution_count": 15,
   "metadata": {},
   "outputs": [
    {
     "data": {
      "text/plain": [
       "282683"
      ]
     },
     "execution_count": 15,
     "metadata": {},
     "output_type": "execute_result"
    }
   ],
   "source": [
    "class_count_0"
   ]
  },
  {
   "cell_type": "code",
   "execution_count": 16,
   "metadata": {},
   "outputs": [
    {
     "data": {
      "text/plain": [
       "282683"
      ]
     },
     "execution_count": 16,
     "metadata": {},
     "output_type": "execute_result"
    }
   ],
   "source": [
    "class_count_1"
   ]
  },
  {
   "cell_type": "code",
   "execution_count": 17,
   "metadata": {},
   "outputs": [],
   "source": [
    "#Storing Target variable in y\n",
    "y = app.TARGET\n",
    "customerid= app.SK_ID_CURR"
   ]
  },
  {
   "cell_type": "code",
   "execution_count": 18,
   "metadata": {},
   "outputs": [],
   "source": [
    "app.drop(['TARGET','SK_ID_CURR'],axis=1,inplace=True)"
   ]
  },
  {
   "cell_type": "code",
   "execution_count": 19,
   "metadata": {},
   "outputs": [],
   "source": [
    "#To Train-Tests split\n",
    "from sklearn.model_selection import train_test_split\n",
    "#Feature Scaling for continuous random variable\n",
    "from sklearn.preprocessing import StandardScaler\n",
    "sc = StandardScaler()"
   ]
  },
  {
   "cell_type": "code",
   "execution_count": 20,
   "metadata": {},
   "outputs": [
    {
     "data": {
      "text/plain": [
       "(565366, 59)"
      ]
     },
     "execution_count": 20,
     "metadata": {},
     "output_type": "execute_result"
    }
   ],
   "source": [
    "#Extarct numeric features from data.\n",
    "Num = app.select_dtypes(include=[np.number])\n",
    "Num.shape"
   ]
  },
  {
   "cell_type": "code",
   "execution_count": 21,
   "metadata": {},
   "outputs": [
    {
     "data": {
      "text/html": [
       "<div>\n",
       "<style scoped>\n",
       "    .dataframe tbody tr th:only-of-type {\n",
       "        vertical-align: middle;\n",
       "    }\n",
       "\n",
       "    .dataframe tbody tr th {\n",
       "        vertical-align: top;\n",
       "    }\n",
       "\n",
       "    .dataframe thead th {\n",
       "        text-align: right;\n",
       "    }\n",
       "</style>\n",
       "<table border=\"1\" class=\"dataframe\">\n",
       "  <thead>\n",
       "    <tr style=\"text-align: right;\">\n",
       "      <th></th>\n",
       "      <th>NAME_CONTRACT_TYPE</th>\n",
       "      <th>CODE_GENDER</th>\n",
       "      <th>FLAG_OWN_CAR</th>\n",
       "      <th>FLAG_OWN_REALTY</th>\n",
       "      <th>CNT_CHILDREN</th>\n",
       "      <th>AMT_INCOME_TOTAL</th>\n",
       "      <th>AMT_CREDIT</th>\n",
       "      <th>AMT_ANNUITY</th>\n",
       "      <th>AMT_GOODS_PRICE</th>\n",
       "      <th>NAME_TYPE_SUITE</th>\n",
       "      <th>...</th>\n",
       "      <th>FLAG_DOCUMENT_18</th>\n",
       "      <th>FLAG_DOCUMENT_19</th>\n",
       "      <th>FLAG_DOCUMENT_20</th>\n",
       "      <th>FLAG_DOCUMENT_21</th>\n",
       "      <th>AMT_REQ_CREDIT_BUREAU_HOUR</th>\n",
       "      <th>AMT_REQ_CREDIT_BUREAU_DAY</th>\n",
       "      <th>AMT_REQ_CREDIT_BUREAU_WEEK</th>\n",
       "      <th>AMT_REQ_CREDIT_BUREAU_MON</th>\n",
       "      <th>AMT_REQ_CREDIT_BUREAU_QRT</th>\n",
       "      <th>AMT_REQ_CREDIT_BUREAU_YEAR</th>\n",
       "    </tr>\n",
       "  </thead>\n",
       "  <tbody>\n",
       "    <tr>\n",
       "      <th>103777</th>\n",
       "      <td>Cash loans</td>\n",
       "      <td>M</td>\n",
       "      <td>N</td>\n",
       "      <td>Y</td>\n",
       "      <td>0.758582</td>\n",
       "      <td>-0.061442</td>\n",
       "      <td>0.747078</td>\n",
       "      <td>0.726458</td>\n",
       "      <td>0.526288</td>\n",
       "      <td>Family</td>\n",
       "      <td>...</td>\n",
       "      <td>-0.084773</td>\n",
       "      <td>-0.02308</td>\n",
       "      <td>-0.022418</td>\n",
       "      <td>-0.021117</td>\n",
       "      <td>-0.071374</td>\n",
       "      <td>-0.063141</td>\n",
       "      <td>-0.155955</td>\n",
       "      <td>-0.26993</td>\n",
       "      <td>-0.327457</td>\n",
       "      <td>-0.879739</td>\n",
       "    </tr>\n",
       "    <tr>\n",
       "      <th>82331</th>\n",
       "      <td>Revolving loans</td>\n",
       "      <td>F</td>\n",
       "      <td>N</td>\n",
       "      <td>N</td>\n",
       "      <td>-0.593458</td>\n",
       "      <td>-0.104308</td>\n",
       "      <td>-0.820098</td>\n",
       "      <td>-0.980078</td>\n",
       "      <td>-0.713013</td>\n",
       "      <td>Unaccompanied</td>\n",
       "      <td>...</td>\n",
       "      <td>-0.084773</td>\n",
       "      <td>-0.02308</td>\n",
       "      <td>-0.022418</td>\n",
       "      <td>-0.021117</td>\n",
       "      <td>-0.071374</td>\n",
       "      <td>-0.063141</td>\n",
       "      <td>-0.155955</td>\n",
       "      <td>-0.26993</td>\n",
       "      <td>-0.327457</td>\n",
       "      <td>0.182965</td>\n",
       "    </tr>\n",
       "    <tr>\n",
       "      <th>132888</th>\n",
       "      <td>Cash loans</td>\n",
       "      <td>M</td>\n",
       "      <td>Y</td>\n",
       "      <td>N</td>\n",
       "      <td>-0.593458</td>\n",
       "      <td>-0.104308</td>\n",
       "      <td>-0.173448</td>\n",
       "      <td>-0.040093</td>\n",
       "      <td>-0.112930</td>\n",
       "      <td>Unaccompanied</td>\n",
       "      <td>...</td>\n",
       "      <td>-0.084773</td>\n",
       "      <td>-0.02308</td>\n",
       "      <td>-0.022418</td>\n",
       "      <td>-0.021117</td>\n",
       "      <td>-0.071374</td>\n",
       "      <td>-0.063141</td>\n",
       "      <td>-0.155955</td>\n",
       "      <td>-0.26993</td>\n",
       "      <td>-0.327457</td>\n",
       "      <td>-0.879739</td>\n",
       "    </tr>\n",
       "    <tr>\n",
       "      <th>61253</th>\n",
       "      <td>Cash loans</td>\n",
       "      <td>F</td>\n",
       "      <td>N</td>\n",
       "      <td>N</td>\n",
       "      <td>-0.593458</td>\n",
       "      <td>0.067155</td>\n",
       "      <td>0.674109</td>\n",
       "      <td>-0.166527</td>\n",
       "      <td>0.526288</td>\n",
       "      <td>Unaccompanied</td>\n",
       "      <td>...</td>\n",
       "      <td>-0.084773</td>\n",
       "      <td>-0.02308</td>\n",
       "      <td>-0.022418</td>\n",
       "      <td>-0.021117</td>\n",
       "      <td>-0.071374</td>\n",
       "      <td>-0.063141</td>\n",
       "      <td>-0.155955</td>\n",
       "      <td>-0.26993</td>\n",
       "      <td>-0.327457</td>\n",
       "      <td>0.182965</td>\n",
       "    </tr>\n",
       "    <tr>\n",
       "      <th>264674</th>\n",
       "      <td>Cash loans</td>\n",
       "      <td>F</td>\n",
       "      <td>N</td>\n",
       "      <td>Y</td>\n",
       "      <td>-0.593458</td>\n",
       "      <td>0.367215</td>\n",
       "      <td>1.785760</td>\n",
       "      <td>1.310639</td>\n",
       "      <td>1.113326</td>\n",
       "      <td>Unaccompanied</td>\n",
       "      <td>...</td>\n",
       "      <td>-0.084773</td>\n",
       "      <td>-0.02308</td>\n",
       "      <td>-0.022418</td>\n",
       "      <td>-0.021117</td>\n",
       "      <td>-0.071374</td>\n",
       "      <td>-0.063141</td>\n",
       "      <td>-0.155955</td>\n",
       "      <td>-0.26993</td>\n",
       "      <td>1.143244</td>\n",
       "      <td>-0.879739</td>\n",
       "    </tr>\n",
       "  </tbody>\n",
       "</table>\n",
       "<p>5 rows × 71 columns</p>\n",
       "</div>"
      ],
      "text/plain": [
       "       NAME_CONTRACT_TYPE CODE_GENDER FLAG_OWN_CAR FLAG_OWN_REALTY  \\\n",
       "103777         Cash loans           M            N               Y   \n",
       "82331     Revolving loans           F            N               N   \n",
       "132888         Cash loans           M            Y               N   \n",
       "61253          Cash loans           F            N               N   \n",
       "264674         Cash loans           F            N               Y   \n",
       "\n",
       "        CNT_CHILDREN  AMT_INCOME_TOTAL  AMT_CREDIT  AMT_ANNUITY  \\\n",
       "103777      0.758582         -0.061442    0.747078     0.726458   \n",
       "82331      -0.593458         -0.104308   -0.820098    -0.980078   \n",
       "132888     -0.593458         -0.104308   -0.173448    -0.040093   \n",
       "61253      -0.593458          0.067155    0.674109    -0.166527   \n",
       "264674     -0.593458          0.367215    1.785760     1.310639   \n",
       "\n",
       "        AMT_GOODS_PRICE NAME_TYPE_SUITE  ... FLAG_DOCUMENT_18  \\\n",
       "103777         0.526288          Family  ...        -0.084773   \n",
       "82331         -0.713013   Unaccompanied  ...        -0.084773   \n",
       "132888        -0.112930   Unaccompanied  ...        -0.084773   \n",
       "61253          0.526288   Unaccompanied  ...        -0.084773   \n",
       "264674         1.113326   Unaccompanied  ...        -0.084773   \n",
       "\n",
       "       FLAG_DOCUMENT_19 FLAG_DOCUMENT_20 FLAG_DOCUMENT_21  \\\n",
       "103777         -0.02308        -0.022418        -0.021117   \n",
       "82331          -0.02308        -0.022418        -0.021117   \n",
       "132888         -0.02308        -0.022418        -0.021117   \n",
       "61253          -0.02308        -0.022418        -0.021117   \n",
       "264674         -0.02308        -0.022418        -0.021117   \n",
       "\n",
       "        AMT_REQ_CREDIT_BUREAU_HOUR  AMT_REQ_CREDIT_BUREAU_DAY  \\\n",
       "103777                   -0.071374                  -0.063141   \n",
       "82331                    -0.071374                  -0.063141   \n",
       "132888                   -0.071374                  -0.063141   \n",
       "61253                    -0.071374                  -0.063141   \n",
       "264674                   -0.071374                  -0.063141   \n",
       "\n",
       "        AMT_REQ_CREDIT_BUREAU_WEEK  AMT_REQ_CREDIT_BUREAU_MON  \\\n",
       "103777                   -0.155955                   -0.26993   \n",
       "82331                    -0.155955                   -0.26993   \n",
       "132888                   -0.155955                   -0.26993   \n",
       "61253                    -0.155955                   -0.26993   \n",
       "264674                   -0.155955                   -0.26993   \n",
       "\n",
       "        AMT_REQ_CREDIT_BUREAU_QRT  AMT_REQ_CREDIT_BUREAU_YEAR  \n",
       "103777                  -0.327457                   -0.879739  \n",
       "82331                   -0.327457                    0.182965  \n",
       "132888                  -0.327457                   -0.879739  \n",
       "61253                   -0.327457                    0.182965  \n",
       "264674                   1.143244                   -0.879739  \n",
       "\n",
       "[5 rows x 71 columns]"
      ]
     },
     "execution_count": 21,
     "metadata": {},
     "output_type": "execute_result"
    }
   ],
   "source": [
    "app[Num.columns]= sc.fit_transform(app[Num.columns])\n",
    "app.head()"
   ]
  },
  {
   "cell_type": "code",
   "execution_count": 22,
   "metadata": {},
   "outputs": [
    {
     "data": {
      "text/html": [
       "<div>\n",
       "<style scoped>\n",
       "    .dataframe tbody tr th:only-of-type {\n",
       "        vertical-align: middle;\n",
       "    }\n",
       "\n",
       "    .dataframe tbody tr th {\n",
       "        vertical-align: top;\n",
       "    }\n",
       "\n",
       "    .dataframe thead th {\n",
       "        text-align: right;\n",
       "    }\n",
       "</style>\n",
       "<table border=\"1\" class=\"dataframe\">\n",
       "  <thead>\n",
       "    <tr style=\"text-align: right;\">\n",
       "      <th></th>\n",
       "      <th>CNT_CHILDREN</th>\n",
       "      <th>AMT_INCOME_TOTAL</th>\n",
       "      <th>AMT_CREDIT</th>\n",
       "      <th>AMT_ANNUITY</th>\n",
       "      <th>AMT_GOODS_PRICE</th>\n",
       "      <th>REGION_POPULATION_RELATIVE</th>\n",
       "      <th>DAYS_BIRTH</th>\n",
       "      <th>DAYS_EMPLOYED</th>\n",
       "      <th>DAYS_REGISTRATION</th>\n",
       "      <th>DAYS_ID_PUBLISH</th>\n",
       "      <th>...</th>\n",
       "      <th>ORGANIZATION_TYPE_Trade: type 4</th>\n",
       "      <th>ORGANIZATION_TYPE_Trade: type 5</th>\n",
       "      <th>ORGANIZATION_TYPE_Trade: type 6</th>\n",
       "      <th>ORGANIZATION_TYPE_Trade: type 7</th>\n",
       "      <th>ORGANIZATION_TYPE_Transport: type 1</th>\n",
       "      <th>ORGANIZATION_TYPE_Transport: type 2</th>\n",
       "      <th>ORGANIZATION_TYPE_Transport: type 3</th>\n",
       "      <th>ORGANIZATION_TYPE_Transport: type 4</th>\n",
       "      <th>ORGANIZATION_TYPE_University</th>\n",
       "      <th>ORGANIZATION_TYPE_XNA</th>\n",
       "    </tr>\n",
       "  </thead>\n",
       "  <tbody>\n",
       "    <tr>\n",
       "      <th>103777</th>\n",
       "      <td>0.758582</td>\n",
       "      <td>-0.061442</td>\n",
       "      <td>0.747078</td>\n",
       "      <td>0.726458</td>\n",
       "      <td>0.526288</td>\n",
       "      <td>-0.110395</td>\n",
       "      <td>0.432126</td>\n",
       "      <td>-0.436116</td>\n",
       "      <td>-0.274677</td>\n",
       "      <td>-1.059826</td>\n",
       "      <td>...</td>\n",
       "      <td>0</td>\n",
       "      <td>0</td>\n",
       "      <td>0</td>\n",
       "      <td>0</td>\n",
       "      <td>0</td>\n",
       "      <td>0</td>\n",
       "      <td>0</td>\n",
       "      <td>0</td>\n",
       "      <td>0</td>\n",
       "      <td>0</td>\n",
       "    </tr>\n",
       "    <tr>\n",
       "      <th>82331</th>\n",
       "      <td>-0.593458</td>\n",
       "      <td>-0.104308</td>\n",
       "      <td>-0.820098</td>\n",
       "      <td>-0.980078</td>\n",
       "      <td>-0.713013</td>\n",
       "      <td>-0.910231</td>\n",
       "      <td>-0.690068</td>\n",
       "      <td>-0.414704</td>\n",
       "      <td>0.291358</td>\n",
       "      <td>0.546995</td>\n",
       "      <td>...</td>\n",
       "      <td>0</td>\n",
       "      <td>0</td>\n",
       "      <td>0</td>\n",
       "      <td>0</td>\n",
       "      <td>0</td>\n",
       "      <td>0</td>\n",
       "      <td>0</td>\n",
       "      <td>0</td>\n",
       "      <td>0</td>\n",
       "      <td>0</td>\n",
       "    </tr>\n",
       "    <tr>\n",
       "      <th>132888</th>\n",
       "      <td>-0.593458</td>\n",
       "      <td>-0.104308</td>\n",
       "      <td>-0.173448</td>\n",
       "      <td>-0.040093</td>\n",
       "      <td>-0.112930</td>\n",
       "      <td>0.196424</td>\n",
       "      <td>-2.120835</td>\n",
       "      <td>2.351171</td>\n",
       "      <td>-0.172768</td>\n",
       "      <td>-0.795204</td>\n",
       "      <td>...</td>\n",
       "      <td>0</td>\n",
       "      <td>0</td>\n",
       "      <td>0</td>\n",
       "      <td>0</td>\n",
       "      <td>0</td>\n",
       "      <td>0</td>\n",
       "      <td>0</td>\n",
       "      <td>0</td>\n",
       "      <td>0</td>\n",
       "      <td>1</td>\n",
       "    </tr>\n",
       "    <tr>\n",
       "      <th>61253</th>\n",
       "      <td>-0.593458</td>\n",
       "      <td>0.067155</td>\n",
       "      <td>0.674109</td>\n",
       "      <td>-0.166527</td>\n",
       "      <td>0.526288</td>\n",
       "      <td>-0.771697</td>\n",
       "      <td>-0.652854</td>\n",
       "      <td>-0.492255</td>\n",
       "      <td>-1.509530</td>\n",
       "      <td>0.658900</td>\n",
       "      <td>...</td>\n",
       "      <td>0</td>\n",
       "      <td>0</td>\n",
       "      <td>0</td>\n",
       "      <td>0</td>\n",
       "      <td>0</td>\n",
       "      <td>0</td>\n",
       "      <td>0</td>\n",
       "      <td>0</td>\n",
       "      <td>0</td>\n",
       "      <td>0</td>\n",
       "    </tr>\n",
       "    <tr>\n",
       "      <th>264674</th>\n",
       "      <td>-0.593458</td>\n",
       "      <td>0.367215</td>\n",
       "      <td>1.785760</td>\n",
       "      <td>1.310639</td>\n",
       "      <td>1.113326</td>\n",
       "      <td>-1.063755</td>\n",
       "      <td>0.447843</td>\n",
       "      <td>-0.414992</td>\n",
       "      <td>0.607860</td>\n",
       "      <td>1.012387</td>\n",
       "      <td>...</td>\n",
       "      <td>0</td>\n",
       "      <td>0</td>\n",
       "      <td>0</td>\n",
       "      <td>0</td>\n",
       "      <td>0</td>\n",
       "      <td>0</td>\n",
       "      <td>0</td>\n",
       "      <td>0</td>\n",
       "      <td>0</td>\n",
       "      <td>0</td>\n",
       "    </tr>\n",
       "  </tbody>\n",
       "</table>\n",
       "<p>5 rows × 183 columns</p>\n",
       "</div>"
      ],
      "text/plain": [
       "        CNT_CHILDREN  AMT_INCOME_TOTAL  AMT_CREDIT  AMT_ANNUITY  \\\n",
       "103777      0.758582         -0.061442    0.747078     0.726458   \n",
       "82331      -0.593458         -0.104308   -0.820098    -0.980078   \n",
       "132888     -0.593458         -0.104308   -0.173448    -0.040093   \n",
       "61253      -0.593458          0.067155    0.674109    -0.166527   \n",
       "264674     -0.593458          0.367215    1.785760     1.310639   \n",
       "\n",
       "        AMT_GOODS_PRICE  REGION_POPULATION_RELATIVE  DAYS_BIRTH  \\\n",
       "103777         0.526288                   -0.110395    0.432126   \n",
       "82331         -0.713013                   -0.910231   -0.690068   \n",
       "132888        -0.112930                    0.196424   -2.120835   \n",
       "61253          0.526288                   -0.771697   -0.652854   \n",
       "264674         1.113326                   -1.063755    0.447843   \n",
       "\n",
       "        DAYS_EMPLOYED  DAYS_REGISTRATION  DAYS_ID_PUBLISH  ...  \\\n",
       "103777      -0.436116          -0.274677        -1.059826  ...   \n",
       "82331       -0.414704           0.291358         0.546995  ...   \n",
       "132888       2.351171          -0.172768        -0.795204  ...   \n",
       "61253       -0.492255          -1.509530         0.658900  ...   \n",
       "264674      -0.414992           0.607860         1.012387  ...   \n",
       "\n",
       "        ORGANIZATION_TYPE_Trade: type 4  ORGANIZATION_TYPE_Trade: type 5  \\\n",
       "103777                                0                                0   \n",
       "82331                                 0                                0   \n",
       "132888                                0                                0   \n",
       "61253                                 0                                0   \n",
       "264674                                0                                0   \n",
       "\n",
       "        ORGANIZATION_TYPE_Trade: type 6  ORGANIZATION_TYPE_Trade: type 7  \\\n",
       "103777                                0                                0   \n",
       "82331                                 0                                0   \n",
       "132888                                0                                0   \n",
       "61253                                 0                                0   \n",
       "264674                                0                                0   \n",
       "\n",
       "        ORGANIZATION_TYPE_Transport: type 1  \\\n",
       "103777                                    0   \n",
       "82331                                     0   \n",
       "132888                                    0   \n",
       "61253                                     0   \n",
       "264674                                    0   \n",
       "\n",
       "        ORGANIZATION_TYPE_Transport: type 2  \\\n",
       "103777                                    0   \n",
       "82331                                     0   \n",
       "132888                                    0   \n",
       "61253                                     0   \n",
       "264674                                    0   \n",
       "\n",
       "        ORGANIZATION_TYPE_Transport: type 3  \\\n",
       "103777                                    0   \n",
       "82331                                     0   \n",
       "132888                                    0   \n",
       "61253                                     0   \n",
       "264674                                    0   \n",
       "\n",
       "        ORGANIZATION_TYPE_Transport: type 4  ORGANIZATION_TYPE_University  \\\n",
       "103777                                    0                             0   \n",
       "82331                                     0                             0   \n",
       "132888                                    0                             0   \n",
       "61253                                     0                             0   \n",
       "264674                                    0                             0   \n",
       "\n",
       "        ORGANIZATION_TYPE_XNA  \n",
       "103777                      0  \n",
       "82331                       0  \n",
       "132888                      1  \n",
       "61253                       0  \n",
       "264674                      0  \n",
       "\n",
       "[5 rows x 183 columns]"
      ]
     },
     "execution_count": 22,
     "metadata": {},
     "output_type": "execute_result"
    }
   ],
   "source": [
    "Data=pd.get_dummies(app)\n",
    "Data.head()"
   ]
  },
  {
   "cell_type": "code",
   "execution_count": 23,
   "metadata": {},
   "outputs": [],
   "source": [
    "X=Data\n",
    "Y=y"
   ]
  },
  {
   "cell_type": "code",
   "execution_count": 24,
   "metadata": {},
   "outputs": [
    {
     "data": {
      "text/plain": [
       "((395756, 183), (169610, 183), (395756,), (169610,))"
      ]
     },
     "execution_count": 24,
     "metadata": {},
     "output_type": "execute_result"
    }
   ],
   "source": [
    "#Spiltting the data set\n",
    "X_train, X_test, y_train, y_test = train_test_split(X, Y, test_size=0.3, random_state=0)\n",
    "X_train.shape,X_test.shape,y_train.shape,y_test.shape"
   ]
  },
  {
   "cell_type": "markdown",
   "metadata": {},
   "source": [
    "### Simple Logistic Regression"
   ]
  },
  {
   "cell_type": "code",
   "execution_count": 25,
   "metadata": {},
   "outputs": [
    {
     "data": {
      "text/plain": [
       "LogisticRegression()"
      ]
     },
     "execution_count": 25,
     "metadata": {},
     "output_type": "execute_result"
    }
   ],
   "source": [
    "logreg = LogisticRegression()\n",
    "logreg.fit(X_train,y_train)"
   ]
  },
  {
   "cell_type": "code",
   "execution_count": 26,
   "metadata": {},
   "outputs": [
    {
     "name": "stdout",
     "output_type": "stream",
     "text": [
      "Accuracy of logistic regression classifier on test set: 0.68\n"
     ]
    }
   ],
   "source": [
    "y_pred = logreg.predict(X_test)\n",
    "print('Accuracy of logistic regression classifier on test set: {:.2f}'.format(logreg.score(X_test, y_test)))"
   ]
  },
  {
   "cell_type": "code",
   "execution_count": 27,
   "metadata": {},
   "outputs": [
    {
     "name": "stdout",
     "output_type": "stream",
     "text": [
      "[[58547 26555]\n",
      " [27131 57377]]\n"
     ]
    }
   ],
   "source": [
    "from sklearn.metrics import confusion_matrix\n",
    "confusion_matrix = confusion_matrix(y_test, y_pred)\n",
    "print(confusion_matrix)"
   ]
  },
  {
   "cell_type": "code",
   "execution_count": 28,
   "metadata": {},
   "outputs": [
    {
     "name": "stdout",
     "output_type": "stream",
     "text": [
      "              precision    recall  f1-score   support\n",
      "\n",
      "           0       0.68      0.69      0.69     85102\n",
      "           1       0.68      0.68      0.68     84508\n",
      "\n",
      "    accuracy                           0.68    169610\n",
      "   macro avg       0.68      0.68      0.68    169610\n",
      "weighted avg       0.68      0.68      0.68    169610\n",
      "\n"
     ]
    }
   ],
   "source": [
    "from sklearn.metrics import classification_report\n",
    "print(classification_report(y_test, y_pred))"
   ]
  },
  {
   "cell_type": "markdown",
   "metadata": {},
   "source": [
    "### Stepwise Regression"
   ]
  },
  {
   "cell_type": "code",
   "execution_count": null,
   "metadata": {},
   "outputs": [],
   "source": [
    "f=['EXT_SOURCE_3','EXT_SOURCE_2','ORGANIZATION_TYPE_Advertising', 'ORGANIZATION_TYPE_Agriculture', 'ORGANIZATION_TYPE_Bank', 'ORGANIZATION_TYPE_Business Entity Type 1', 'ORGANIZATION_TYPE_Business Entity Type 2', 'ORGANIZATION_TYPE_Business Entity Type 3', 'ORGANIZATION_TYPE_Cleaning', 'ORGANIZATION_TYPE_Construction', 'ORGANIZATION_TYPE_Culture', 'ORGANIZATION_TYPE_Electricity', 'ORGANIZATION_TYPE_Emergency', 'ORGANIZATION_TYPE_Government', 'ORGANIZATION_TYPE_Hotel', 'ORGANIZATION_TYPE_Housing', 'ORGANIZATION_TYPE_Industry: type 1', 'ORGANIZATION_TYPE_Industry: type 10', 'ORGANIZATION_TYPE_Industry: type 11', 'ORGANIZATION_TYPE_Industry: type 12', 'ORGANIZATION_TYPE_Industry: type 13', 'ORGANIZATION_TYPE_Industry: type 2', 'ORGANIZATION_TYPE_Industry: type 3', 'ORGANIZATION_TYPE_Industry: type 4', 'ORGANIZATION_TYPE_Industry: type 5', 'ORGANIZATION_TYPE_Industry: type 6', 'ORGANIZATION_TYPE_Industry: type 7', 'ORGANIZATION_TYPE_Industry: type 8', 'ORGANIZATION_TYPE_Industry: type 9', 'ORGANIZATION_TYPE_Insurance', 'ORGANIZATION_TYPE_Kindergarten', 'ORGANIZATION_TYPE_Legal Services', 'ORGANIZATION_TYPE_Medicine', 'ORGANIZATION_TYPE_Military', 'ORGANIZATION_TYPE_Mobile', 'ORGANIZATION_TYPE_Other', 'ORGANIZATION_TYPE_Police', 'ORGANIZATION_TYPE_Postal', 'ORGANIZATION_TYPE_Realtor', 'ORGANIZATION_TYPE_Religion', 'ORGANIZATION_TYPE_Restaurant', 'ORGANIZATION_TYPE_School', 'ORGANIZATION_TYPE_Security', 'ORGANIZATION_TYPE_Security Ministries', 'ORGANIZATION_TYPE_Self-employed', 'ORGANIZATION_TYPE_Services', 'ORGANIZATION_TYPE_Telecom', 'ORGANIZATION_TYPE_Trade: type 1', 'ORGANIZATION_TYPE_Trade: type 2', 'ORGANIZATION_TYPE_Trade: type 3', 'ORGANIZATION_TYPE_Trade: type 4', 'ORGANIZATION_TYPE_Trade: type 5', 'ORGANIZATION_TYPE_Trade: type 6', 'ORGANIZATION_TYPE_Trade: type 7', 'ORGANIZATION_TYPE_Transport: type 1', 'ORGANIZATION_TYPE_Transport: type 2', 'ORGANIZATION_TYPE_Transport: type 3', 'ORGANIZATION_TYPE_Transport: type 4', 'ORGANIZATION_TYPE_University', 'ORGANIZATION_TYPE_XNA','OCCUPATION_TYPE_Accountants', 'OCCUPATION_TYPE_Cleaning staff', 'OCCUPATION_TYPE_Cooking staff', 'OCCUPATION_TYPE_Core staff', 'OCCUPATION_TYPE_Drivers', 'OCCUPATION_TYPE_HR staff', 'OCCUPATION_TYPE_High skill tech staff', 'OCCUPATION_TYPE_IT staff', 'OCCUPATION_TYPE_Laborers', 'OCCUPATION_TYPE_Low-skill Laborers', 'OCCUPATION_TYPE_Managers', 'OCCUPATION_TYPE_Medicine staff', 'OCCUPATION_TYPE_Private service staff', 'OCCUPATION_TYPE_Realty agents', 'OCCUPATION_TYPE_Sales staff', 'OCCUPATION_TYPE_Secretaries', 'OCCUPATION_TYPE_Security staff', 'OCCUPATION_TYPE_Unknown', 'OCCUPATION_TYPE_Waiters/barmen staff','DAYS_EMPLOYED','NAME_EDUCATION_TYPE_Academic degree', 'NAME_EDUCATION_TYPE_Higher education', 'NAME_EDUCATION_TYPE_Incomplete higher', 'NAME_EDUCATION_TYPE_Lower secondary', 'NAME_EDUCATION_TYPE_Secondary / secondary special','NAME_CONTRACT_TYPE_Cash loans', 'NAME_CONTRACT_TYPE_Revolving loans','CODE_GENDER_F', 'CODE_GENDER_M', 'CODE_GENDER_XNA']"
   ]
  },
  {
   "cell_type": "code",
   "execution_count": null,
   "metadata": {},
   "outputs": [],
   "source": [
    "X1 = X[f]"
   ]
  },
  {
   "cell_type": "code",
   "execution_count": null,
   "metadata": {},
   "outputs": [],
   "source": [
    "X.head()"
   ]
  },
  {
   "cell_type": "raw",
   "metadata": {},
   "source": [
    "X_train, X_test, y_train, y_test = train_test_split(X1, Y, test_size=0.3, random_state=0)\n",
    "X_train.shape,X_test.shape,y_train.shape,y_test.shape"
   ]
  },
  {
   "cell_type": "markdown",
   "metadata": {},
   "source": [
    "### Using the features from stepwise regression"
   ]
  },
  {
   "cell_type": "code",
   "execution_count": null,
   "metadata": {},
   "outputs": [],
   "source": [
    "logreg = LogisticRegression()\n",
    "logreg.fit(X_train,y_train)"
   ]
  },
  {
   "cell_type": "code",
   "execution_count": null,
   "metadata": {},
   "outputs": [],
   "source": [
    "y_pred = logreg.predict(X_test)\n",
    "print('Accuracy of logistic regression classifier on test set: {:.2f}'.format(logreg.score(X_test, y_test)))"
   ]
  },
  {
   "cell_type": "code",
   "execution_count": null,
   "metadata": {},
   "outputs": [],
   "source": [
    "from sklearn.metrics import confusion_matrix\n",
    "confusion_matrix = confusion_matrix(y_test, y_pred)\n",
    "print(confusion_matrix)"
   ]
  },
  {
   "cell_type": "code",
   "execution_count": null,
   "metadata": {},
   "outputs": [],
   "source": [
    "from sklearn.metrics import classification_report\n",
    "print(classification_report(y_test, y_pred))"
   ]
  },
  {
   "cell_type": "markdown",
   "metadata": {},
   "source": [
    "### Lasso Regularization using Grid Search"
   ]
  },
  {
   "cell_type": "code",
   "execution_count": 29,
   "metadata": {},
   "outputs": [],
   "source": [
    "from sklearn.model_selection import GridSearchCV"
   ]
  },
  {
   "cell_type": "code",
   "execution_count": 30,
   "metadata": {},
   "outputs": [],
   "source": [
    "grid={\"C\":np.logspace(-3,3,7), \"penalty\":[\"l1\"]}# l1 lasso l2 ridge\n",
    "logreg=LogisticRegression(solver = 'liblinear')"
   ]
  },
  {
   "cell_type": "code",
   "execution_count": null,
   "metadata": {},
   "outputs": [],
   "source": [
    "logreg_cv=GridSearchCV(logreg,grid,cv=3,scoring='f1')\n",
    "logreg_cv.fit(X_train, y_train)"
   ]
  },
  {
   "cell_type": "code",
   "execution_count": null,
   "metadata": {},
   "outputs": [],
   "source": [
    "print(\"tuned hpyerparameters :(best parameters) \",logreg_cv.best_params_)\n",
    "print(\"best score :\",logreg_cv.best_score_)"
   ]
  },
  {
   "cell_type": "code",
   "execution_count": null,
   "metadata": {},
   "outputs": [],
   "source": [
    "sel= SelectFromModel(LogisticRegression(penalty='l1',C=0.1,solver='liblinear'))\n",
    "sel.fit(X_train,y_train)\n",
    "sel.get_support()"
   ]
  },
  {
   "cell_type": "code",
   "execution_count": null,
   "metadata": {},
   "outputs": [],
   "source": [
    "y_pred=sel.predict(X_test)"
   ]
  },
  {
   "cell_type": "code",
   "execution_count": null,
   "metadata": {},
   "outputs": [],
   "source": [
    "a=sel.estimator_.coef_\n",
    "a.shape\n",
    "a"
   ]
  },
  {
   "cell_type": "code",
   "execution_count": null,
   "metadata": {},
   "outputs": [],
   "source": [
    "X_train.columns[sel.get_support()]"
   ]
  },
  {
   "cell_type": "code",
   "execution_count": null,
   "metadata": {},
   "outputs": [],
   "source": [
    "features=list(X_train.columns[sel.get_support()])\n",
    "print(features)"
   ]
  },
  {
   "cell_type": "code",
   "execution_count": null,
   "metadata": {},
   "outputs": [],
   "source": [
    "X1 = X[features]"
   ]
  },
  {
   "cell_type": "code",
   "execution_count": null,
   "metadata": {},
   "outputs": [],
   "source": [
    "X1.head()"
   ]
  },
  {
   "cell_type": "raw",
   "metadata": {},
   "source": [
    "X_train, X_test, y_train, y_test = train_test_split(X1, Y, test_size=0.3, random_state=0)\n",
    "X_train.shape,X_test.shape,y_train.shape,y_test.shape"
   ]
  },
  {
   "cell_type": "markdown",
   "metadata": {},
   "source": [
    "### Using the features from lasso regularization"
   ]
  },
  {
   "cell_type": "code",
   "execution_count": null,
   "metadata": {},
   "outputs": [],
   "source": [
    "logreg = LogisticRegression()\n",
    "logreg.fit(X_train,y_train)"
   ]
  },
  {
   "cell_type": "code",
   "execution_count": null,
   "metadata": {},
   "outputs": [],
   "source": [
    "y_pred = logreg.predict(X_test)\n",
    "print('Accuracy of logistic regression classifier on test set: {:.2f}'.format(logreg.score(X_test, y_test)))"
   ]
  },
  {
   "cell_type": "code",
   "execution_count": null,
   "metadata": {},
   "outputs": [],
   "source": [
    "from sklearn.metrics import confusion_matrix\n",
    "confusion_matrix = confusion_matrix(y_test, y_pred)\n",
    "print(confusion_matrix)"
   ]
  },
  {
   "cell_type": "code",
   "execution_count": null,
   "metadata": {},
   "outputs": [],
   "source": [
    "from sklearn.metrics import classification_report\n",
    "print(classification_report(y_test, y_pred))"
   ]
  },
  {
   "cell_type": "markdown",
   "metadata": {},
   "source": [
    "### Random Forest using Grid search"
   ]
  },
  {
   "cell_type": "code",
   "execution_count": 22,
   "id": "b4f07cef",
   "metadata": {},
   "outputs": [],
   "source": [
    "X=Data\n",
    "Y=y"
   ]
  },
  {
   "cell_type": "code",
   "execution_count": 41,
   "id": "d6f90780",
   "metadata": {},
   "outputs": [],
   "source": [
    "f1 = list(Data.columns)"
   ]
  },
  {
   "cell_type": "code",
   "execution_count": 23,
   "id": "71c91b2e",
   "metadata": {},
   "outputs": [],
   "source": [
    "X_train, X_test, y_train, y_test = train_test_split(X, Y, test_size=0.3, random_state=0)"
   ]
  },
  {
   "cell_type": "code",
   "execution_count": 18,
   "id": "1cef201f",
   "metadata": {},
   "outputs": [
    {
     "name": "stdout",
     "output_type": "stream",
     "text": [
      "0.9193354322989598\n"
     ]
    }
   ],
   "source": [
    "from sklearn.model_selection import StratifiedKFold\n",
    "from sklearn.model_selection import cross_val_score\n",
    "skfold=StratifiedKFold(n_splits=15)\n",
    "model=RandomForestClassifier()\n",
    "scores=cross_val_score(model,X,y,cv=skfold)\n",
    "print(np.mean(scores))"
   ]
  },
  {
   "cell_type": "code",
   "execution_count": 24,
   "id": "8978171f",
   "metadata": {},
   "outputs": [],
   "source": [
    "from sklearn.feature_selection import SelectFromModel"
   ]
  },
  {
   "cell_type": "code",
   "execution_count": 26,
   "id": "3b70b086",
   "metadata": {},
   "outputs": [],
   "source": [
    "from sklearn.ensemble import RandomForestClassifier\n",
    "from sklearn.model_selection import train_test_split\n",
    "from sklearn.metrics import mean_squared_error as MSE"
   ]
  },
  {
   "cell_type": "code",
   "execution_count": 27,
   "id": "a34708b8",
   "metadata": {},
   "outputs": [
    {
     "data": {
      "text/plain": [
       "SelectFromModel(estimator=RandomForestClassifier())"
      ]
     },
     "execution_count": 27,
     "metadata": {},
     "output_type": "execute_result"
    }
   ],
   "source": [
    "sel = SelectFromModel(RandomForestClassifier())\n",
    "sel.fit(X_train, y_train)"
   ]
  },
  {
   "cell_type": "code",
   "execution_count": 63,
   "id": "b7ad14eb",
   "metadata": {},
   "outputs": [
    {
     "data": {
      "text/plain": [
       "array([ True,  True,  True,  True,  True,  True,  True,  True,  True,\n",
       "        True, False, False, False, False,  True, False,  True,  True,\n",
       "        True,  True, False, False, False, False, False, False,  True,\n",
       "        True,  True,  True,  True, False,  True, False,  True, False,\n",
       "       False, False, False, False, False, False, False, False, False,\n",
       "       False, False, False, False, False, False, False, False, False,\n",
       "       False, False,  True,  True,  True, False, False,  True, False,\n",
       "       False,  True,  True,  True,  True, False, False, False, False,\n",
       "       False, False,  True, False, False, False, False, False, False,\n",
       "       False,  True, False,  True, False, False,  True, False,  True,\n",
       "       False, False, False, False, False, False, False, False, False,\n",
       "       False, False, False, False, False, False, False, False, False,\n",
       "       False, False, False, False, False, False, False, False, False,\n",
       "       False,  True,  True, False, False,  True,  True,  True, False,\n",
       "       False, False, False, False,  True, False, False, False, False,\n",
       "       False, False, False, False, False, False, False, False, False,\n",
       "       False, False, False, False, False, False, False, False, False,\n",
       "       False, False, False, False, False, False, False, False, False,\n",
       "       False, False, False, False, False, False, False, False, False,\n",
       "       False, False, False, False, False, False, False, False, False,\n",
       "       False, False, False])"
      ]
     },
     "execution_count": 63,
     "metadata": {},
     "output_type": "execute_result"
    }
   ],
   "source": [
    "sel.get_support()"
   ]
  },
  {
   "cell_type": "code",
   "execution_count": 64,
   "id": "06755820",
   "metadata": {},
   "outputs": [
    {
     "ename": "IndexError",
     "evalue": "boolean index did not match indexed array along dimension 0; dimension is 122 but corresponding boolean dimension is 183",
     "output_type": "error",
     "traceback": [
      "\u001b[1;31m---------------------------------------------------------------------------\u001b[0m",
      "\u001b[1;31mIndexError\u001b[0m                                Traceback (most recent call last)",
      "\u001b[1;32mC:\\Users\\RAINAG~1\\AppData\\Local\\Temp/ipykernel_29880/2793053441.py\u001b[0m in \u001b[0;36m<module>\u001b[1;34m\u001b[0m\n\u001b[1;32m----> 1\u001b[1;33m \u001b[0mfeatures\u001b[0m\u001b[1;33m=\u001b[0m\u001b[0mlist\u001b[0m\u001b[1;33m(\u001b[0m\u001b[0mX_train\u001b[0m\u001b[1;33m.\u001b[0m\u001b[0mcolumns\u001b[0m\u001b[1;33m[\u001b[0m\u001b[0msel\u001b[0m\u001b[1;33m.\u001b[0m\u001b[0mget_support\u001b[0m\u001b[1;33m(\u001b[0m\u001b[1;33m)\u001b[0m\u001b[1;33m]\u001b[0m\u001b[1;33m)\u001b[0m\u001b[1;33m\u001b[0m\u001b[1;33m\u001b[0m\u001b[0m\n\u001b[0m\u001b[0;32m      2\u001b[0m \u001b[0mprint\u001b[0m\u001b[1;33m(\u001b[0m\u001b[0mfeatures\u001b[0m\u001b[1;33m)\u001b[0m\u001b[1;33m\u001b[0m\u001b[1;33m\u001b[0m\u001b[0m\n",
      "\u001b[1;32m~\\anaconda3\\lib\\site-packages\\pandas\\core\\indexes\\base.py\u001b[0m in \u001b[0;36m__getitem__\u001b[1;34m(self, key)\u001b[0m\n\u001b[0;32m   4614\u001b[0m             \u001b[0mkey\u001b[0m \u001b[1;33m=\u001b[0m \u001b[0mnp\u001b[0m\u001b[1;33m.\u001b[0m\u001b[0masarray\u001b[0m\u001b[1;33m(\u001b[0m\u001b[0mkey\u001b[0m\u001b[1;33m,\u001b[0m \u001b[0mdtype\u001b[0m\u001b[1;33m=\u001b[0m\u001b[0mbool\u001b[0m\u001b[1;33m)\u001b[0m\u001b[1;33m\u001b[0m\u001b[1;33m\u001b[0m\u001b[0m\n\u001b[0;32m   4615\u001b[0m \u001b[1;33m\u001b[0m\u001b[0m\n\u001b[1;32m-> 4616\u001b[1;33m         \u001b[0mresult\u001b[0m \u001b[1;33m=\u001b[0m \u001b[0mgetitem\u001b[0m\u001b[1;33m(\u001b[0m\u001b[0mkey\u001b[0m\u001b[1;33m)\u001b[0m\u001b[1;33m\u001b[0m\u001b[1;33m\u001b[0m\u001b[0m\n\u001b[0m\u001b[0;32m   4617\u001b[0m         \u001b[1;32mif\u001b[0m \u001b[1;32mnot\u001b[0m \u001b[0mis_scalar\u001b[0m\u001b[1;33m(\u001b[0m\u001b[0mresult\u001b[0m\u001b[1;33m)\u001b[0m\u001b[1;33m:\u001b[0m\u001b[1;33m\u001b[0m\u001b[1;33m\u001b[0m\u001b[0m\n\u001b[0;32m   4618\u001b[0m             \u001b[1;31m# error: Argument 1 to \"ndim\" has incompatible type \"Union[ExtensionArray,\u001b[0m\u001b[1;33m\u001b[0m\u001b[1;33m\u001b[0m\u001b[0m\n",
      "\u001b[1;31mIndexError\u001b[0m: boolean index did not match indexed array along dimension 0; dimension is 122 but corresponding boolean dimension is 183"
     ]
    }
   ],
   "source": [
    "features=list(X_train.columns[sel.get_support()])\n",
    "print(features)"
   ]
  },
  {
   "cell_type": "code",
   "execution_count": 44,
   "id": "1c528844",
   "metadata": {},
   "outputs": [],
   "source": [
    "X1 = X[features]"
   ]
  },
  {
   "cell_type": "code",
   "execution_count": 45,
   "id": "318da9f8",
   "metadata": {},
   "outputs": [
    {
     "data": {
      "text/plain": [
       "(565366, 122)"
      ]
     },
     "execution_count": 45,
     "metadata": {},
     "output_type": "execute_result"
    }
   ],
   "source": [
    "X1.shape"
   ]
  },
  {
   "cell_type": "code",
   "execution_count": 46,
   "id": "03c93ecb",
   "metadata": {},
   "outputs": [
    {
     "data": {
      "text/html": [
       "<div>\n",
       "<style scoped>\n",
       "    .dataframe tbody tr th:only-of-type {\n",
       "        vertical-align: middle;\n",
       "    }\n",
       "\n",
       "    .dataframe tbody tr th {\n",
       "        vertical-align: top;\n",
       "    }\n",
       "\n",
       "    .dataframe thead th {\n",
       "        text-align: right;\n",
       "    }\n",
       "</style>\n",
       "<table border=\"1\" class=\"dataframe\">\n",
       "  <thead>\n",
       "    <tr style=\"text-align: right;\">\n",
       "      <th></th>\n",
       "      <th>CNT_CHILDREN</th>\n",
       "      <th>AMT_INCOME_TOTAL</th>\n",
       "      <th>AMT_CREDIT</th>\n",
       "      <th>AMT_ANNUITY</th>\n",
       "      <th>AMT_GOODS_PRICE</th>\n",
       "      <th>REGION_POPULATION_RELATIVE</th>\n",
       "      <th>DAYS_BIRTH</th>\n",
       "      <th>DAYS_EMPLOYED</th>\n",
       "      <th>DAYS_REGISTRATION</th>\n",
       "      <th>DAYS_ID_PUBLISH</th>\n",
       "      <th>...</th>\n",
       "      <th>ORGANIZATION_TYPE_Trade: type 4</th>\n",
       "      <th>ORGANIZATION_TYPE_Trade: type 5</th>\n",
       "      <th>ORGANIZATION_TYPE_Trade: type 6</th>\n",
       "      <th>ORGANIZATION_TYPE_Trade: type 7</th>\n",
       "      <th>ORGANIZATION_TYPE_Transport: type 1</th>\n",
       "      <th>ORGANIZATION_TYPE_Transport: type 2</th>\n",
       "      <th>ORGANIZATION_TYPE_Transport: type 3</th>\n",
       "      <th>ORGANIZATION_TYPE_Transport: type 4</th>\n",
       "      <th>ORGANIZATION_TYPE_University</th>\n",
       "      <th>ORGANIZATION_TYPE_XNA</th>\n",
       "    </tr>\n",
       "  </thead>\n",
       "  <tbody>\n",
       "    <tr>\n",
       "      <th>275888</th>\n",
       "      <td>-0.592525</td>\n",
       "      <td>-0.079785</td>\n",
       "      <td>-0.687883</td>\n",
       "      <td>-0.540891</td>\n",
       "      <td>-0.791004</td>\n",
       "      <td>2.007537</td>\n",
       "      <td>-1.321774</td>\n",
       "      <td>-0.503421</td>\n",
       "      <td>-0.696290</td>\n",
       "      <td>-1.009216</td>\n",
       "      <td>...</td>\n",
       "      <td>0</td>\n",
       "      <td>0</td>\n",
       "      <td>0</td>\n",
       "      <td>0</td>\n",
       "      <td>0</td>\n",
       "      <td>0</td>\n",
       "      <td>0</td>\n",
       "      <td>1</td>\n",
       "      <td>0</td>\n",
       "      <td>0</td>\n",
       "    </tr>\n",
       "    <tr>\n",
       "      <th>84061</th>\n",
       "      <td>-0.592525</td>\n",
       "      <td>-0.102650</td>\n",
       "      <td>-0.018090</td>\n",
       "      <td>0.066599</td>\n",
       "      <td>-0.152237</td>\n",
       "      <td>2.007537</td>\n",
       "      <td>0.893290</td>\n",
       "      <td>-0.417480</td>\n",
       "      <td>-0.101302</td>\n",
       "      <td>0.255698</td>\n",
       "      <td>...</td>\n",
       "      <td>0</td>\n",
       "      <td>0</td>\n",
       "      <td>0</td>\n",
       "      <td>0</td>\n",
       "      <td>0</td>\n",
       "      <td>0</td>\n",
       "      <td>0</td>\n",
       "      <td>0</td>\n",
       "      <td>0</td>\n",
       "      <td>0</td>\n",
       "    </tr>\n",
       "    <tr>\n",
       "      <th>293094</th>\n",
       "      <td>-0.592525</td>\n",
       "      <td>0.034540</td>\n",
       "      <td>0.249597</td>\n",
       "      <td>-0.579624</td>\n",
       "      <td>0.460458</td>\n",
       "      <td>0.863549</td>\n",
       "      <td>-0.520458</td>\n",
       "      <td>-0.423240</td>\n",
       "      <td>-0.075977</td>\n",
       "      <td>1.104462</td>\n",
       "      <td>...</td>\n",
       "      <td>0</td>\n",
       "      <td>0</td>\n",
       "      <td>0</td>\n",
       "      <td>0</td>\n",
       "      <td>0</td>\n",
       "      <td>0</td>\n",
       "      <td>0</td>\n",
       "      <td>0</td>\n",
       "      <td>0</td>\n",
       "      <td>0</td>\n",
       "    </tr>\n",
       "    <tr>\n",
       "      <th>154329</th>\n",
       "      <td>-0.592525</td>\n",
       "      <td>0.377516</td>\n",
       "      <td>-1.295184</td>\n",
       "      <td>-1.250346</td>\n",
       "      <td>-1.234230</td>\n",
       "      <td>-0.098904</td>\n",
       "      <td>0.558522</td>\n",
       "      <td>-0.418727</td>\n",
       "      <td>1.182697</td>\n",
       "      <td>-0.237493</td>\n",
       "      <td>...</td>\n",
       "      <td>0</td>\n",
       "      <td>0</td>\n",
       "      <td>0</td>\n",
       "      <td>0</td>\n",
       "      <td>0</td>\n",
       "      <td>0</td>\n",
       "      <td>0</td>\n",
       "      <td>0</td>\n",
       "      <td>0</td>\n",
       "      <td>0</td>\n",
       "    </tr>\n",
       "    <tr>\n",
       "      <th>89966</th>\n",
       "      <td>-0.592525</td>\n",
       "      <td>-0.136947</td>\n",
       "      <td>-0.701037</td>\n",
       "      <td>-0.814344</td>\n",
       "      <td>-0.582427</td>\n",
       "      <td>-0.158212</td>\n",
       "      <td>-0.347294</td>\n",
       "      <td>-0.431267</td>\n",
       "      <td>1.306992</td>\n",
       "      <td>1.519955</td>\n",
       "      <td>...</td>\n",
       "      <td>0</td>\n",
       "      <td>0</td>\n",
       "      <td>0</td>\n",
       "      <td>0</td>\n",
       "      <td>0</td>\n",
       "      <td>0</td>\n",
       "      <td>0</td>\n",
       "      <td>0</td>\n",
       "      <td>0</td>\n",
       "      <td>0</td>\n",
       "    </tr>\n",
       "  </tbody>\n",
       "</table>\n",
       "<p>5 rows × 122 columns</p>\n",
       "</div>"
      ],
      "text/plain": [
       "        CNT_CHILDREN  AMT_INCOME_TOTAL  AMT_CREDIT  AMT_ANNUITY  \\\n",
       "275888     -0.592525         -0.079785   -0.687883    -0.540891   \n",
       "84061      -0.592525         -0.102650   -0.018090     0.066599   \n",
       "293094     -0.592525          0.034540    0.249597    -0.579624   \n",
       "154329     -0.592525          0.377516   -1.295184    -1.250346   \n",
       "89966      -0.592525         -0.136947   -0.701037    -0.814344   \n",
       "\n",
       "        AMT_GOODS_PRICE  REGION_POPULATION_RELATIVE  DAYS_BIRTH  \\\n",
       "275888        -0.791004                    2.007537   -1.321774   \n",
       "84061         -0.152237                    2.007537    0.893290   \n",
       "293094         0.460458                    0.863549   -0.520458   \n",
       "154329        -1.234230                   -0.098904    0.558522   \n",
       "89966         -0.582427                   -0.158212   -0.347294   \n",
       "\n",
       "        DAYS_EMPLOYED  DAYS_REGISTRATION  DAYS_ID_PUBLISH  ...  \\\n",
       "275888      -0.503421          -0.696290        -1.009216  ...   \n",
       "84061       -0.417480          -0.101302         0.255698  ...   \n",
       "293094      -0.423240          -0.075977         1.104462  ...   \n",
       "154329      -0.418727           1.182697        -0.237493  ...   \n",
       "89966       -0.431267           1.306992         1.519955  ...   \n",
       "\n",
       "        ORGANIZATION_TYPE_Trade: type 4  ORGANIZATION_TYPE_Trade: type 5  \\\n",
       "275888                                0                                0   \n",
       "84061                                 0                                0   \n",
       "293094                                0                                0   \n",
       "154329                                0                                0   \n",
       "89966                                 0                                0   \n",
       "\n",
       "        ORGANIZATION_TYPE_Trade: type 6  ORGANIZATION_TYPE_Trade: type 7  \\\n",
       "275888                                0                                0   \n",
       "84061                                 0                                0   \n",
       "293094                                0                                0   \n",
       "154329                                0                                0   \n",
       "89966                                 0                                0   \n",
       "\n",
       "        ORGANIZATION_TYPE_Transport: type 1  \\\n",
       "275888                                    0   \n",
       "84061                                     0   \n",
       "293094                                    0   \n",
       "154329                                    0   \n",
       "89966                                     0   \n",
       "\n",
       "        ORGANIZATION_TYPE_Transport: type 2  \\\n",
       "275888                                    0   \n",
       "84061                                     0   \n",
       "293094                                    0   \n",
       "154329                                    0   \n",
       "89966                                     0   \n",
       "\n",
       "        ORGANIZATION_TYPE_Transport: type 3  \\\n",
       "275888                                    0   \n",
       "84061                                     0   \n",
       "293094                                    0   \n",
       "154329                                    0   \n",
       "89966                                     0   \n",
       "\n",
       "        ORGANIZATION_TYPE_Transport: type 4  ORGANIZATION_TYPE_University  \\\n",
       "275888                                    1                             0   \n",
       "84061                                     0                             0   \n",
       "293094                                    0                             0   \n",
       "154329                                    0                             0   \n",
       "89966                                     0                             0   \n",
       "\n",
       "        ORGANIZATION_TYPE_XNA  \n",
       "275888                      0  \n",
       "84061                       0  \n",
       "293094                      0  \n",
       "154329                      0  \n",
       "89966                       0  \n",
       "\n",
       "[5 rows x 122 columns]"
      ]
     },
     "execution_count": 46,
     "metadata": {},
     "output_type": "execute_result"
    }
   ],
   "source": [
    "X1.head()"
   ]
  },
  {
   "cell_type": "code",
   "execution_count": 53,
   "id": "d77cbaee",
   "metadata": {},
   "outputs": [],
   "source": [
    "X_train, X_test, y_train, y_test = train_test_split(X1, Y, test_size=0.25, random_state=0)"
   ]
  },
  {
   "cell_type": "markdown",
   "metadata": {},
   "source": [
    "### Using the features from Random Forest"
   ]
  },
  {
   "cell_type": "code",
   "execution_count": 54,
   "id": "08e671af",
   "metadata": {},
   "outputs": [],
   "source": [
    "from sklearn.linear_model import LogisticRegression"
   ]
  },
  {
   "cell_type": "code",
   "execution_count": 55,
   "id": "bd82fc7b",
   "metadata": {},
   "outputs": [
    {
     "data": {
      "text/plain": [
       "LogisticRegression()"
      ]
     },
     "execution_count": 55,
     "metadata": {},
     "output_type": "execute_result"
    }
   ],
   "source": [
    "logreg = LogisticRegression()\n",
    "logreg.fit(X_train,y_train)"
   ]
  },
  {
   "cell_type": "code",
   "execution_count": 56,
   "id": "90cd787a",
   "metadata": {},
   "outputs": [
    {
     "name": "stdout",
     "output_type": "stream",
     "text": [
      "Accuracy of logistic regression classifier on test set: 0.68\n"
     ]
    }
   ],
   "source": [
    "y_pred = logreg.predict(X_test)\n",
    "print('Accuracy of logistic regression classifier on test set: {:.2f}'.format(logreg.score(X_test, y_test)))"
   ]
  },
  {
   "cell_type": "code",
   "execution_count": 57,
   "id": "569775a2",
   "metadata": {},
   "outputs": [
    {
     "name": "stdout",
     "output_type": "stream",
     "text": [
      "[[48674 22282]\n",
      " [22981 47405]]\n"
     ]
    }
   ],
   "source": [
    "from sklearn.metrics import confusion_matrix\n",
    "confusion_matrix = confusion_matrix(y_test, y_pred)\n",
    "print(confusion_matrix)"
   ]
  },
  {
   "cell_type": "code",
   "execution_count": 58,
   "id": "0b7146d9",
   "metadata": {},
   "outputs": [
    {
     "name": "stdout",
     "output_type": "stream",
     "text": [
      "              precision    recall  f1-score   support\n",
      "\n",
      "           0       0.68      0.69      0.68     70956\n",
      "           1       0.68      0.67      0.68     70386\n",
      "\n",
      "    accuracy                           0.68    141342\n",
      "   macro avg       0.68      0.68      0.68    141342\n",
      "weighted avg       0.68      0.68      0.68    141342\n",
      "\n"
     ]
    }
   ],
   "source": [
    "from sklearn.metrics import classification_report\n",
    "print(classification_report(y_test, y_pred))"
   ]
  },
  {
   "cell_type": "code",
   "execution_count": null,
   "metadata": {},
   "outputs": [],
   "source": []
  },
  {
   "cell_type": "code",
   "execution_count": null,
   "metadata": {},
   "outputs": [],
   "source": []
  },
  {
   "cell_type": "code",
   "execution_count": null,
   "metadata": {},
   "outputs": [],
   "source": []
  },
  {
   "cell_type": "code",
   "execution_count": null,
   "metadata": {},
   "outputs": [],
   "source": []
  },
  {
   "cell_type": "code",
   "execution_count": null,
   "metadata": {},
   "outputs": [],
   "source": []
  },
  {
   "cell_type": "code",
   "execution_count": null,
   "metadata": {},
   "outputs": [],
   "source": []
  }
 ],
 "metadata": {
  "kernelspec": {
   "display_name": "Python 3 (ipykernel)",
   "language": "python",
   "name": "python3"
  },
  "language_info": {
   "codemirror_mode": {
    "name": "ipython",
    "version": 3
   },
   "file_extension": ".py",
   "mimetype": "text/x-python",
   "name": "python",
   "nbconvert_exporter": "python",
   "pygments_lexer": "ipython3",
   "version": "3.9.7"
  }
 },
 "nbformat": 4,
 "nbformat_minor": 4
}
